{
 "cells": [
  {
   "cell_type": "markdown",
   "metadata": {},
   "source": [
    "# Restaurant to Open at Yogyakarta, Indonesia"
   ]
  },
  {
   "cell_type": "markdown",
   "metadata": {},
   "source": [
    "## 1. Introduction"
   ]
  },
  {
   "cell_type": "markdown",
   "metadata": {},
   "source": [
    "Yogyakarta is a really diverse place in Indonesia. All sort of people are here in Yogyakarta to study, travel, business, permananent residence and many others. These groups have a tendency to cluster to a certain location in Yogyakarta. Thus, this clustering also affects their food choices. Since their palates is affected, so does the success of a certain restaurants being open on certain locations. "
   ]
  },
  {
   "cell_type": "markdown",
   "metadata": {},
   "source": [
    "This project is meant to help **entrepreneurs, local cooks and chefs** to better understand the correlation between the location and the best type of restaurant to be opened based on local palate. By choosing the best location based on the type of restaurant they're going to open, hopefully they could minimize the risk of bankruptcy and maximize profit."
   ]
  },
  {
   "cell_type": "markdown",
   "metadata": {},
   "source": [
    "To better understand the palate preferences in Yogyakarta, foursquare venue data will gives us relevant information about restaurant type and it's location. By using machine learning algorithm such as KKN, we can group neighborhoods that have similar food palates based on nearby restaurants thus giving us cluster of food preferences. "
   ]
  },
  {
   "cell_type": "markdown",
   "metadata": {},
   "source": [
    "## 2. Data"
   ]
  },
  {
   "cell_type": "markdown",
   "metadata": {},
   "source": [
    "Data used in this project:\n",
    "<br>**1.** Data retrieved from https://kodepos.nomor.net/_kodepos.php?_i=kota-kodepos&daerah=Provinsi&jobs=DI+Yogyakarta&perhal=400&urut=10&asc=00001111&sby=110000&no1=2 for region names and postal code information.\n",
    "<br>**2.** Geopy library to find geographical location information.\n",
    "<br>**3.** Using Foursquare API to find nearby restaurants information such as their location and types of dishes they sell."
   ]
  },
  {
   "cell_type": "markdown",
   "metadata": {},
   "source": [
    "## 3. Acquiring and Data Cleaning"
   ]
  },
  {
   "cell_type": "markdown",
   "metadata": {},
   "source": [
    "### importing necessary libraries"
   ]
  },
  {
   "cell_type": "code",
   "execution_count": 1,
   "metadata": {},
   "outputs": [],
   "source": [
    "import time # for time delay while working with API\n",
    "\n",
    "import requests # library to handle requests\n",
    "\n",
    "import bs4 # library to parse webpages\n",
    "\n",
    "import numpy as np # library to handle data in a vectorized manner\n",
    "\n",
    "import pandas as pd # library for data analsysis\n",
    "pd.set_option('display.max_columns', None)\n",
    "pd.set_option('display.max_rows', None)\n",
    "from pandas.io.json import json_normalize # tranform JSON file into a pandas dataframe\n",
    "\n",
    "# Convert an address into latitude and longitude values\n",
    "from geopy.geocoders import Nominatim\n",
    "import geopy.geocoders\n",
    "\n",
    "import json # library to handle JSON files\n",
    "\n",
    "# Matplotlib and associated plotting modules\n",
    "import matplotlib.cm as cm\n",
    "import matplotlib.colors as colors\n",
    "\n",
    "# k-means from clustering stage\n",
    "from sklearn.cluster import KMeans\n",
    "\n",
    "# Map rendering library\n",
    "import folium\n",
    "\n",
    "# regular expressions\n",
    "import re"
   ]
  },
  {
   "cell_type": "markdown",
   "metadata": {},
   "source": [
    "### Scraping Region Name and Postal Code Data from Website"
   ]
  },
  {
   "cell_type": "code",
   "execution_count": 3,
   "metadata": {},
   "outputs": [],
   "source": [
    "# Download the webpage\n",
    "url = 'https://kodepos.nomor.net/_kodepos.php?_i=kecamatan-kodepos&sby=110000&daerah=Kota&jobs=Yogyakarta'\n",
    "res = requests.get(url)\n",
    "res.raise_for_status()"
   ]
  },
  {
   "cell_type": "code",
   "execution_count": 4,
   "metadata": {},
   "outputs": [],
   "source": [
    "# Create an beautifulSoup object\n",
    "yogyakarta_soup = bs4.BeautifulSoup(res.text)"
   ]
  },
  {
   "cell_type": "code",
   "execution_count": 6,
   "metadata": {},
   "outputs": [],
   "source": [
    "# Selecting all elements inside the corresponding tags\n",
    "elements = yogyakarta_soup.select('div table tbody tr td')"
   ]
  },
  {
   "cell_type": "code",
   "execution_count": 9,
   "metadata": {},
   "outputs": [],
   "source": [
    "# Take a look on raw data\n",
    "for i in range(2, len(elements), 8):\n",
    "    print('{0} | {1}'.format(str(i//6+1), elements[i].getText(), elements[i+1].getText().getText()))\n",
    "    if elements[i].getText() == 'Wirobrajan': # the last location on the table\n",
    "        break"
   ]
  },
  {
   "cell_type": "code",
   "execution_count": 29,
   "metadata": {},
   "outputs": [
    {
     "data": {
      "text/plain": [
       "0"
      ]
     },
     "execution_count": 29,
     "metadata": {},
     "output_type": "execute_result"
    }
   ],
   "source": [
    "len(elements)"
   ]
  },
  {
   "cell_type": "code",
   "execution_count": 11,
   "metadata": {},
   "outputs": [
    {
     "ename": "IndexError",
     "evalue": "list index out of range",
     "output_type": "error",
     "traceback": [
      "\u001b[1;31m---------------------------------------------------------------------------\u001b[0m",
      "\u001b[1;31mIndexError\u001b[0m                                Traceback (most recent call last)",
      "\u001b[1;32m<ipython-input-11-fa82e1e0df75>\u001b[0m in \u001b[0;36m<module>\u001b[1;34m\u001b[0m\n\u001b[0;32m      2\u001b[0m \u001b[0mlst\u001b[0m \u001b[1;33m=\u001b[0m \u001b[1;33m[\u001b[0m\u001b[1;33m]\u001b[0m\u001b[1;33m\u001b[0m\u001b[1;33m\u001b[0m\u001b[0m\n\u001b[0;32m      3\u001b[0m \u001b[1;32mfor\u001b[0m \u001b[0mi\u001b[0m \u001b[1;32min\u001b[0m \u001b[0mrange\u001b[0m\u001b[1;33m(\u001b[0m\u001b[1;36m2\u001b[0m\u001b[1;33m,\u001b[0m \u001b[1;36m3195\u001b[0m\u001b[1;33m,\u001b[0m \u001b[1;36m6\u001b[0m\u001b[1;33m)\u001b[0m\u001b[1;33m:\u001b[0m\u001b[1;33m\u001b[0m\u001b[1;33m\u001b[0m\u001b[0m\n\u001b[1;32m----> 4\u001b[1;33m     \u001b[0mKecamatan\u001b[0m\u001b[1;33m,\u001b[0m \u001b[0mKode_POS\u001b[0m \u001b[1;33m=\u001b[0m \u001b[0melements\u001b[0m\u001b[1;33m[\u001b[0m\u001b[0mi\u001b[0m\u001b[1;33m]\u001b[0m\u001b[1;33m.\u001b[0m\u001b[0mgetText\u001b[0m\u001b[1;33m(\u001b[0m\u001b[1;33m)\u001b[0m\u001b[1;33m,\u001b[0m \u001b[0melements\u001b[0m\u001b[1;33m[\u001b[0m\u001b[0mi\u001b[0m\u001b[1;33m+\u001b[0m\u001b[1;36m1\u001b[0m\u001b[1;33m]\u001b[0m\u001b[1;33m.\u001b[0m\u001b[0mgetText\u001b[0m\u001b[1;33m(\u001b[0m\u001b[1;33m)\u001b[0m\u001b[1;33m\u001b[0m\u001b[1;33m\u001b[0m\u001b[0m\n\u001b[0m\u001b[0;32m      5\u001b[0m     \u001b[0mlst\u001b[0m\u001b[1;33m.\u001b[0m\u001b[0mappend\u001b[0m\u001b[1;33m(\u001b[0m\u001b[1;33m[\u001b[0m\u001b[0mKecamatan\u001b[0m\u001b[1;33m,\u001b[0m \u001b[0mKode_POS\u001b[0m\u001b[1;33m,\u001b[0m \u001b[1;36m0\u001b[0m\u001b[1;33m,\u001b[0m \u001b[1;36m0\u001b[0m\u001b[1;33m]\u001b[0m\u001b[1;33m)\u001b[0m\u001b[1;33m\u001b[0m\u001b[1;33m\u001b[0m\u001b[0m\n\u001b[0;32m      6\u001b[0m \u001b[0mlst\u001b[0m\u001b[1;33m[\u001b[0m\u001b[1;36m1\u001b[0m\u001b[1;33m:\u001b[0m\u001b[1;36m10\u001b[0m\u001b[1;33m]\u001b[0m\u001b[1;33m\u001b[0m\u001b[1;33m\u001b[0m\u001b[0m\n",
      "\u001b[1;31mIndexError\u001b[0m: list index out of range"
     ]
    }
   ],
   "source": [
    "# Creating a new list of rows\n",
    "lst = []\n",
    "for i in range(2, 3195, 6):\n",
    "    Kecamatan, Kode_POS = elements[i].getText(), elements[i+1].getText()\n",
    "    lst.append([Kecamatan, Kode_POS, 0, 0])\n",
    "lst[1:10]"
   ]
  },
  {
   "cell_type": "code",
   "execution_count": 13,
   "metadata": {},
   "outputs": [],
   "source": [
    "data=[['Danurejan',55211],['Gondongtengen',55271],['Gondokusuman',55221],['Gondomanan',55121],['Jetis',55231],['Kotagede',55171],['Kraton',55131],['Mantrijeron',55141],['Mergasangan',55151],['Ngampilan',55261],['Pakualaman',55111],['Tegalrejo',55241],['Umbulharjo',55161],['Wirobrajan',55251]]\n",
    "df = pd.DataFrame(data, columns = ['Kecamatan', 'Kode POS'])"
   ]
  },
  {
   "cell_type": "code",
   "execution_count": 14,
   "metadata": {},
   "outputs": [
    {
     "data": {
      "text/html": [
       "<div>\n",
       "<style scoped>\n",
       "    .dataframe tbody tr th:only-of-type {\n",
       "        vertical-align: middle;\n",
       "    }\n",
       "\n",
       "    .dataframe tbody tr th {\n",
       "        vertical-align: top;\n",
       "    }\n",
       "\n",
       "    .dataframe thead th {\n",
       "        text-align: right;\n",
       "    }\n",
       "</style>\n",
       "<table border=\"1\" class=\"dataframe\">\n",
       "  <thead>\n",
       "    <tr style=\"text-align: right;\">\n",
       "      <th></th>\n",
       "      <th>Kecamatan</th>\n",
       "      <th>Kode POS</th>\n",
       "    </tr>\n",
       "  </thead>\n",
       "  <tbody>\n",
       "    <tr>\n",
       "      <th>0</th>\n",
       "      <td>Danurejan</td>\n",
       "      <td>55211</td>\n",
       "    </tr>\n",
       "    <tr>\n",
       "      <th>1</th>\n",
       "      <td>Gondongtengen</td>\n",
       "      <td>55271</td>\n",
       "    </tr>\n",
       "    <tr>\n",
       "      <th>2</th>\n",
       "      <td>Gondokusuman</td>\n",
       "      <td>55221</td>\n",
       "    </tr>\n",
       "    <tr>\n",
       "      <th>3</th>\n",
       "      <td>Gondomanan</td>\n",
       "      <td>55121</td>\n",
       "    </tr>\n",
       "    <tr>\n",
       "      <th>4</th>\n",
       "      <td>Jetis</td>\n",
       "      <td>55231</td>\n",
       "    </tr>\n",
       "    <tr>\n",
       "      <th>5</th>\n",
       "      <td>Kotagede</td>\n",
       "      <td>55171</td>\n",
       "    </tr>\n",
       "    <tr>\n",
       "      <th>6</th>\n",
       "      <td>Kraton</td>\n",
       "      <td>55131</td>\n",
       "    </tr>\n",
       "    <tr>\n",
       "      <th>7</th>\n",
       "      <td>Mantrijeron</td>\n",
       "      <td>55141</td>\n",
       "    </tr>\n",
       "    <tr>\n",
       "      <th>8</th>\n",
       "      <td>Mergasangan</td>\n",
       "      <td>55151</td>\n",
       "    </tr>\n",
       "    <tr>\n",
       "      <th>9</th>\n",
       "      <td>Ngampilan</td>\n",
       "      <td>55261</td>\n",
       "    </tr>\n",
       "    <tr>\n",
       "      <th>10</th>\n",
       "      <td>Pakualaman</td>\n",
       "      <td>55111</td>\n",
       "    </tr>\n",
       "    <tr>\n",
       "      <th>11</th>\n",
       "      <td>Tegalrejo</td>\n",
       "      <td>55241</td>\n",
       "    </tr>\n",
       "    <tr>\n",
       "      <th>12</th>\n",
       "      <td>Umbulharjo</td>\n",
       "      <td>55161</td>\n",
       "    </tr>\n",
       "    <tr>\n",
       "      <th>13</th>\n",
       "      <td>Wirobrajan</td>\n",
       "      <td>55251</td>\n",
       "    </tr>\n",
       "  </tbody>\n",
       "</table>\n",
       "</div>"
      ],
      "text/plain": [
       "        Kecamatan  Kode POS\n",
       "0       Danurejan     55211\n",
       "1   Gondongtengen     55271\n",
       "2    Gondokusuman     55221\n",
       "3      Gondomanan     55121\n",
       "4           Jetis     55231\n",
       "5        Kotagede     55171\n",
       "6          Kraton     55131\n",
       "7     Mantrijeron     55141\n",
       "8     Mergasangan     55151\n",
       "9       Ngampilan     55261\n",
       "10     Pakualaman     55111\n",
       "11      Tegalrejo     55241\n",
       "12     Umbulharjo     55161\n",
       "13     Wirobrajan     55251"
      ]
     },
     "execution_count": 14,
     "metadata": {},
     "output_type": "execute_result"
    }
   ],
   "source": [
    "df"
   ]
  },
  {
   "cell_type": "markdown",
   "metadata": {},
   "source": [
    "### Adding Coordinates"
   ]
  },
  {
   "cell_type": "code",
   "execution_count": 16,
   "metadata": {},
   "outputs": [
    {
     "name": "stdout",
     "output_type": "stream",
     "text": [
      "The geograpical coordinate of Danurejan are -7.79284905, 110.37177162547343.\n"
     ]
    }
   ],
   "source": [
    "# Getting Address\n",
    "address =df.iloc[0, 0]\n",
    "address\n",
    "# Using geopy\n",
    "geolocator = Nominatim(user_agent='opening_restaurant_yogyakarta')\n",
    "location = geolocator.geocode(address)\n",
    "latitude = location.latitude\n",
    "longitude = location.longitude\n",
    "print('The geograpical coordinate of {0} are {1}, {2}.'.format(address, latitude, longitude))"
   ]
  },
  {
   "cell_type": "code",
   "execution_count": 18,
   "metadata": {},
   "outputs": [
    {
     "data": {
      "text/html": [
       "<div>\n",
       "<style scoped>\n",
       "    .dataframe tbody tr th:only-of-type {\n",
       "        vertical-align: middle;\n",
       "    }\n",
       "\n",
       "    .dataframe tbody tr th {\n",
       "        vertical-align: top;\n",
       "    }\n",
       "\n",
       "    .dataframe thead th {\n",
       "        text-align: right;\n",
       "    }\n",
       "</style>\n",
       "<table border=\"1\" class=\"dataframe\">\n",
       "  <thead>\n",
       "    <tr style=\"text-align: right;\">\n",
       "      <th></th>\n",
       "      <th>Kecamatan</th>\n",
       "      <th>Kode POS</th>\n",
       "      <th>Latitude</th>\n",
       "      <th>Longitude</th>\n",
       "    </tr>\n",
       "  </thead>\n",
       "  <tbody>\n",
       "    <tr>\n",
       "      <th>0</th>\n",
       "      <td>Danurejan</td>\n",
       "      <td>55211</td>\n",
       "      <td>-7.792849</td>\n",
       "      <td>110.371772</td>\n",
       "    </tr>\n",
       "    <tr>\n",
       "      <th>1</th>\n",
       "      <td>Gondongtengen</td>\n",
       "      <td>55271</td>\n",
       "      <td>-7.792849</td>\n",
       "      <td>110.371772</td>\n",
       "    </tr>\n",
       "    <tr>\n",
       "      <th>2</th>\n",
       "      <td>Gondokusuman</td>\n",
       "      <td>55221</td>\n",
       "      <td>-7.792849</td>\n",
       "      <td>110.371772</td>\n",
       "    </tr>\n",
       "    <tr>\n",
       "      <th>3</th>\n",
       "      <td>Gondomanan</td>\n",
       "      <td>55121</td>\n",
       "      <td>-7.792849</td>\n",
       "      <td>110.371772</td>\n",
       "    </tr>\n",
       "    <tr>\n",
       "      <th>4</th>\n",
       "      <td>Jetis</td>\n",
       "      <td>55231</td>\n",
       "      <td>-7.792849</td>\n",
       "      <td>110.371772</td>\n",
       "    </tr>\n",
       "  </tbody>\n",
       "</table>\n",
       "</div>"
      ],
      "text/plain": [
       "       Kecamatan  Kode POS  Latitude   Longitude\n",
       "0      Danurejan     55211 -7.792849  110.371772\n",
       "1  Gondongtengen     55271 -7.792849  110.371772\n",
       "2   Gondokusuman     55221 -7.792849  110.371772\n",
       "3     Gondomanan     55121 -7.792849  110.371772\n",
       "4          Jetis     55231 -7.792849  110.371772"
      ]
     },
     "execution_count": 18,
     "metadata": {},
     "output_type": "execute_result"
    }
   ],
   "source": [
    "df['Latitude'] = latitude\n",
    "df['Longitude'] = longitude\n",
    "df.head()"
   ]
  },
  {
   "cell_type": "code",
   "execution_count": 21,
   "metadata": {},
   "outputs": [
    {
     "data": {
      "text/html": [
       "<div>\n",
       "<style scoped>\n",
       "    .dataframe tbody tr th:only-of-type {\n",
       "        vertical-align: middle;\n",
       "    }\n",
       "\n",
       "    .dataframe tbody tr th {\n",
       "        vertical-align: top;\n",
       "    }\n",
       "\n",
       "    .dataframe thead th {\n",
       "        text-align: right;\n",
       "    }\n",
       "</style>\n",
       "<table border=\"1\" class=\"dataframe\">\n",
       "  <thead>\n",
       "    <tr style=\"text-align: right;\">\n",
       "      <th></th>\n",
       "      <th>Kecamatan</th>\n",
       "      <th>Kode POS</th>\n",
       "      <th>Latitude</th>\n",
       "      <th>Longitude</th>\n",
       "    </tr>\n",
       "  </thead>\n",
       "  <tbody>\n",
       "    <tr>\n",
       "      <th>0</th>\n",
       "      <td>Danurejan</td>\n",
       "      <td>55211</td>\n",
       "      <td>-7.792849</td>\n",
       "      <td>110.371772</td>\n",
       "    </tr>\n",
       "    <tr>\n",
       "      <th>1</th>\n",
       "      <td>Gondongtengen</td>\n",
       "      <td>55271</td>\n",
       "      <td>-7.792849</td>\n",
       "      <td>110.371772</td>\n",
       "    </tr>\n",
       "    <tr>\n",
       "      <th>2</th>\n",
       "      <td>Gondokusuman</td>\n",
       "      <td>55221</td>\n",
       "      <td>-7.786791</td>\n",
       "      <td>110.381157</td>\n",
       "    </tr>\n",
       "    <tr>\n",
       "      <th>3</th>\n",
       "      <td>Gondomanan</td>\n",
       "      <td>55121</td>\n",
       "      <td>-7.802395</td>\n",
       "      <td>110.366112</td>\n",
       "    </tr>\n",
       "    <tr>\n",
       "      <th>4</th>\n",
       "      <td>Jetis</td>\n",
       "      <td>55231</td>\n",
       "      <td>-7.781514</td>\n",
       "      <td>110.364669</td>\n",
       "    </tr>\n",
       "    <tr>\n",
       "      <th>5</th>\n",
       "      <td>Kotagede</td>\n",
       "      <td>55171</td>\n",
       "      <td>-7.818311</td>\n",
       "      <td>110.397941</td>\n",
       "    </tr>\n",
       "    <tr>\n",
       "      <th>6</th>\n",
       "      <td>Kraton</td>\n",
       "      <td>55131</td>\n",
       "      <td>-7.808799</td>\n",
       "      <td>110.362726</td>\n",
       "    </tr>\n",
       "    <tr>\n",
       "      <th>7</th>\n",
       "      <td>Mantrijeron</td>\n",
       "      <td>55141</td>\n",
       "      <td>-7.818067</td>\n",
       "      <td>110.359731</td>\n",
       "    </tr>\n",
       "    <tr>\n",
       "      <th>8</th>\n",
       "      <td>Mergasangan</td>\n",
       "      <td>55151</td>\n",
       "      <td>-7.792849</td>\n",
       "      <td>110.371772</td>\n",
       "    </tr>\n",
       "    <tr>\n",
       "      <th>9</th>\n",
       "      <td>Ngampilan</td>\n",
       "      <td>55261</td>\n",
       "      <td>-7.802183</td>\n",
       "      <td>110.357615</td>\n",
       "    </tr>\n",
       "    <tr>\n",
       "      <th>10</th>\n",
       "      <td>Pakualaman</td>\n",
       "      <td>55111</td>\n",
       "      <td>-7.797880</td>\n",
       "      <td>110.376585</td>\n",
       "    </tr>\n",
       "    <tr>\n",
       "      <th>11</th>\n",
       "      <td>Tegalrejo</td>\n",
       "      <td>55241</td>\n",
       "      <td>-7.780455</td>\n",
       "      <td>110.355073</td>\n",
       "    </tr>\n",
       "    <tr>\n",
       "      <th>12</th>\n",
       "      <td>Umbulharjo</td>\n",
       "      <td>55161</td>\n",
       "      <td>-7.814378</td>\n",
       "      <td>110.387374</td>\n",
       "    </tr>\n",
       "    <tr>\n",
       "      <th>13</th>\n",
       "      <td>Wirobrajan</td>\n",
       "      <td>55251</td>\n",
       "      <td>-7.802624</td>\n",
       "      <td>110.350447</td>\n",
       "    </tr>\n",
       "  </tbody>\n",
       "</table>\n",
       "</div>"
      ],
      "text/plain": [
       "        Kecamatan  Kode POS  Latitude   Longitude\n",
       "0       Danurejan     55211 -7.792849  110.371772\n",
       "1   Gondongtengen     55271 -7.792849  110.371772\n",
       "2    Gondokusuman     55221 -7.786791  110.381157\n",
       "3      Gondomanan     55121 -7.802395  110.366112\n",
       "4           Jetis     55231 -7.781514  110.364669\n",
       "5        Kotagede     55171 -7.818311  110.397941\n",
       "6          Kraton     55131 -7.808799  110.362726\n",
       "7     Mantrijeron     55141 -7.818067  110.359731\n",
       "8     Mergasangan     55151 -7.792849  110.371772\n",
       "9       Ngampilan     55261 -7.802183  110.357615\n",
       "10     Pakualaman     55111 -7.797880  110.376585\n",
       "11      Tegalrejo     55241 -7.780455  110.355073\n",
       "12     Umbulharjo     55161 -7.814378  110.387374\n",
       "13     Wirobrajan     55251 -7.802624  110.350447"
      ]
     },
     "execution_count": 21,
     "metadata": {},
     "output_type": "execute_result"
    }
   ],
   "source": [
    "\n",
    "for i in range(len(df)):\n",
    "    time.sleep(2.5)\n",
    "    address = df.iloc[i,0]\n",
    "    geolocator = Nominatim(user_agent='opening_restaurant_yogyakarta')\n",
    "    location = geolocator.geocode(address)\n",
    "    if location == None:\n",
    "        continue\n",
    "    latitude = location.latitude\n",
    "    longitude = location.longitude\n",
    "    df.iloc[i,2] = latitude\n",
    "    df.iloc[i,3] = longitude\n",
    "df"
   ]
  },
  {
   "cell_type": "markdown",
   "metadata": {},
   "source": [
    "### Get Yogyakarta Central Point"
   ]
  },
  {
   "cell_type": "code",
   "execution_count": 24,
   "metadata": {},
   "outputs": [
    {
     "name": "stdout",
     "output_type": "stream",
     "text": [
      "The geograpical coordinate of yogyakarta, indonesia are -7.8011945, 110.364917.\n"
     ]
    }
   ],
   "source": [
    "# Get the yogyakarta \"central\" point\n",
    "yogyakarta_address = 'yogyakarta, indonesia'\n",
    "geolocator = Nominatim(user_agent='opening_restaurant_london')\n",
    "location = geolocator.geocode(yogyakarta_address)\n",
    "yog_lat = location.latitude\n",
    "yog_lon = location.longitude\n",
    "print('The geograpical coordinate of {0} are {1}, {2}.'.format(yogyakarta_address, yog_lat, yog_lon))"
   ]
  },
  {
   "cell_type": "code",
   "execution_count": 28,
   "metadata": {},
   "outputs": [
    {
     "data": {
      "text/html": [
       "<div style=\"width:100%;\"><div style=\"position:relative;width:100%;height:0;padding-bottom:60%;\"><span style=\"color:#565656\">Make this Notebook Trusted to load map: File -> Trust Notebook</span><iframe src=\"about:blank\" style=\"position:absolute;width:100%;height:100%;left:0;top:0;border:none !important;\" data-html=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 onload=\"this.contentDocument.open();this.contentDocument.write(atob(this.getAttribute('data-html')));this.contentDocument.close();\" allowfullscreen webkitallowfullscreen mozallowfullscreen></iframe></div></div>"
      ],
      "text/plain": [
       "<folium.folium.Map at 0xc1c3888>"
      ]
     },
     "execution_count": 28,
     "metadata": {},
     "output_type": "execute_result"
    }
   ],
   "source": [
    "yog_map = folium.Map(location=[yog_lat, yog_lon], zoom_start=13)\n",
    "\n",
    "# add markers to map\n",
    "for lat, lng, kec in zip(df['Latitude'], df['Longitude'], df['Kecamatan']):\n",
    "    label = '{}'.format(kec)\n",
    "    label = folium.Popup(label, parse_html=True)\n",
    "    folium.CircleMarker(\n",
    "        [lat, lng],\n",
    "        radius=5,\n",
    "        popup=label,\n",
    "        color='blue',\n",
    "        fill=True,\n",
    "        fill_color='#3186cc',\n",
    "        fill_opacity=0.7,\n",
    "        ).add_to(yog_map)\n",
    "    \n",
    "yog_map"
   ]
  },
  {
   "cell_type": "code",
   "execution_count": null,
   "metadata": {},
   "outputs": [],
   "source": []
  }
 ],
 "metadata": {
  "kernelspec": {
   "display_name": "Python 3",
   "language": "python",
   "name": "python3"
  },
  "language_info": {
   "codemirror_mode": {
    "name": "ipython",
    "version": 3
   },
   "file_extension": ".py",
   "mimetype": "text/x-python",
   "name": "python",
   "nbconvert_exporter": "python",
   "pygments_lexer": "ipython3",
   "version": "3.7.6"
  }
 },
 "nbformat": 4,
 "nbformat_minor": 4
}
