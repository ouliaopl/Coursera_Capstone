{
 "cells": [
  {
   "cell_type": "markdown",
   "metadata": {},
   "source": [
    "# Restaurant to Open at Yogyakarta, Indonesia"
   ]
  },
  {
   "cell_type": "markdown",
   "metadata": {},
   "source": [
    "## 1. Introduction"
   ]
  },
  {
   "cell_type": "markdown",
   "metadata": {},
   "source": [
    "Yogyakarta is a really diverse place in Indonesia. All sort of people come to Yogyakarta to study, travel, business and many others. These people have a tendency to cluster to a certain location in Yogyakarta. Thus, this clustering does affect the success of a restaurant being open on certain locations. "
   ]
  },
  {
   "cell_type": "markdown",
   "metadata": {},
   "source": [
    "This project is meant to help entrepreneurs, **local cooks and chefs** to better understand the correlation between the location and the best type of restaurant to be opened based on local palate."
   ]
  },
  {
   "cell_type": "markdown",
   "metadata": {},
   "source": [
    "To better understand the palate preferences in Yogyakarta, forsquare venue data and machine learning will be used. "
   ]
  },
  {
   "cell_type": "markdown",
   "metadata": {},
   "source": [
    "## 2. Data"
   ]
  },
  {
   "cell_type": "markdown",
   "metadata": {},
   "source": [
    "Data used in this project:\n",
    "<br>**1.** Data retrieved from https://kodepos.nomor.net/_kodepos.php?_i=kota-kodepos&daerah=Provinsi&jobs=DI+Yogyakarta&perhal=400&urut=10&asc=00001111&sby=110000&no1=2 for region names and postal code information.\n",
    "<br>**2.** Geopy library to find geographical location information.\n",
    "<br>**3.** Using Foursquare API to find nearby restaurants information."
   ]
  },
  {
   "cell_type": "code",
   "execution_count": null,
   "metadata": {},
   "outputs": [],
   "source": []
  }
 ],
 "metadata": {
  "kernelspec": {
   "display_name": "Python 3",
   "language": "python",
   "name": "python3"
  },
  "language_info": {
   "codemirror_mode": {
    "name": "ipython",
    "version": 3
   },
   "file_extension": ".py",
   "mimetype": "text/x-python",
   "name": "python",
   "nbconvert_exporter": "python",
   "pygments_lexer": "ipython3",
   "version": "3.7.6"
  }
 },
 "nbformat": 4,
 "nbformat_minor": 4
}
